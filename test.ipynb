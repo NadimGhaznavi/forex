{
 "cells": [
  {
   "cell_type": "code",
   "execution_count": 27,
   "metadata": {},
   "outputs": [],
   "source": [
    "import requests\n",
    "import pandas as pd\n",
    "import defs"
   ]
  },
  {
   "cell_type": "code",
   "execution_count": 28,
   "metadata": {},
   "outputs": [],
   "source": [
    "session = requests.Session()"
   ]
  },
  {
   "cell_type": "code",
   "execution_count": 29,
   "metadata": {},
   "outputs": [],
   "source": [
    "instrument = \"EUR_USD\"\n",
    "count = 10\n",
    "granularity = \"H1\"\n"
   ]
  },
  {
   "cell_type": "code",
   "execution_count": 30,
   "metadata": {},
   "outputs": [],
   "source": [
    "url = f\"{defs.OANDA_URL}/instruments/{instrument}/candles\""
   ]
  },
  {
   "cell_type": "code",
   "execution_count": 31,
   "metadata": {},
   "outputs": [
    {
     "data": {
      "text/plain": [
       "'https://api-fxpractice.oanda.com/v3/instruments/EUR_USD/candles'"
      ]
     },
     "execution_count": 31,
     "metadata": {},
     "output_type": "execute_result"
    }
   ],
   "source": [
    "url"
   ]
  },
  {
   "cell_type": "code",
   "execution_count": 32,
   "metadata": {},
   "outputs": [],
   "source": [
    "params = dict(\n",
    "    count = count,\n",
    "    granularity = granularity,\n",
    "    price = \"MBA\"\n",
    ")"
   ]
  },
  {
   "cell_type": "code",
   "execution_count": 33,
   "metadata": {},
   "outputs": [
    {
     "data": {
      "text/plain": [
       "{'count': 10, 'granularity': 'H1', 'price': 'MBA'}"
      ]
     },
     "execution_count": 33,
     "metadata": {},
     "output_type": "execute_result"
    }
   ],
   "source": [
    "params"
   ]
  },
  {
   "cell_type": "code",
   "execution_count": 34,
   "metadata": {},
   "outputs": [],
   "source": [
    "response = session.get(url, params=params, headers=defs.SECURE_HEADER)"
   ]
  },
  {
   "cell_type": "code",
   "execution_count": 35,
   "metadata": {},
   "outputs": [
    {
     "data": {
      "text/plain": [
       "200"
      ]
     },
     "execution_count": 35,
     "metadata": {},
     "output_type": "execute_result"
    }
   ],
   "source": [
    "response.status_code"
   ]
  },
  {
   "cell_type": "code",
   "execution_count": 36,
   "metadata": {},
   "outputs": [
    {
     "data": {
      "text/plain": [
       "{'instrument': 'EUR_USD',\n",
       " 'granularity': 'H1',\n",
       " 'candles': [{'complete': True,\n",
       "   'volume': 7419,\n",
       "   'time': '2025-04-29T10:00:00.000000000Z',\n",
       "   'bid': {'o': '1.13797', 'h': '1.13847', 'l': '1.13722', 'c': '1.13774'},\n",
       "   'mid': {'o': '1.13804', 'h': '1.13855', 'l': '1.13730', 'c': '1.13782'},\n",
       "   'ask': {'o': '1.13812', 'h': '1.13863', 'l': '1.13739', 'c': '1.13789'}},\n",
       "  {'complete': True,\n",
       "   'volume': 7442,\n",
       "   'time': '2025-04-29T11:00:00.000000000Z',\n",
       "   'bid': {'o': '1.13773', 'h': '1.13864', 'l': '1.13702', 'c': '1.13738'},\n",
       "   'mid': {'o': '1.13782', 'h': '1.13871', 'l': '1.13710', 'c': '1.13746'},\n",
       "   'ask': {'o': '1.13790', 'h': '1.13878', 'l': '1.13718', 'c': '1.13755'}},\n",
       "  {'complete': True,\n",
       "   'volume': 12128,\n",
       "   'time': '2025-04-29T12:00:00.000000000Z',\n",
       "   'bid': {'o': '1.13741', 'h': '1.14139', 'l': '1.13695', 'c': '1.14099'},\n",
       "   'mid': {'o': '1.13748', 'h': '1.14147', 'l': '1.13704', 'c': '1.14106'},\n",
       "   'ask': {'o': '1.13756', 'h': '1.14155', 'l': '1.13711', 'c': '1.14114'}},\n",
       "  {'complete': True,\n",
       "   'volume': 15299,\n",
       "   'time': '2025-04-29T13:00:00.000000000Z',\n",
       "   'bid': {'o': '1.14099', 'h': '1.14167', 'l': '1.13893', 'c': '1.13964'},\n",
       "   'mid': {'o': '1.14107', 'h': '1.14174', 'l': '1.13900', 'c': '1.13980'},\n",
       "   'ask': {'o': '1.14115', 'h': '1.14182', 'l': '1.13908', 'c': '1.13997'}},\n",
       "  {'complete': True,\n",
       "   'volume': 18273,\n",
       "   'time': '2025-04-29T14:00:00.000000000Z',\n",
       "   'bid': {'o': '1.13965', 'h': '1.14169', 'l': '1.13781', 'c': '1.13825'},\n",
       "   'mid': {'o': '1.13982', 'h': '1.14178', 'l': '1.13789', 'c': '1.13832'},\n",
       "   'ask': {'o': '1.13999', 'h': '1.14186', 'l': '1.13797', 'c': '1.13839'}},\n",
       "  {'complete': True,\n",
       "   'volume': 10849,\n",
       "   'time': '2025-04-29T15:00:00.000000000Z',\n",
       "   'bid': {'o': '1.13825', 'h': '1.14040', 'l': '1.13815', 'c': '1.13952'},\n",
       "   'mid': {'o': '1.13832', 'h': '1.14047', 'l': '1.13823', 'c': '1.13960'},\n",
       "   'ask': {'o': '1.13840', 'h': '1.14055', 'l': '1.13830', 'c': '1.13968'}},\n",
       "  {'complete': True,\n",
       "   'volume': 8823,\n",
       "   'time': '2025-04-29T16:00:00.000000000Z',\n",
       "   'bid': {'o': '1.13954', 'h': '1.14182', 'l': '1.13946', 'c': '1.14028'},\n",
       "   'mid': {'o': '1.13961', 'h': '1.14190', 'l': '1.13953', 'c': '1.14035'},\n",
       "   'ask': {'o': '1.13968', 'h': '1.14197', 'l': '1.13960', 'c': '1.14042'}},\n",
       "  {'complete': True,\n",
       "   'volume': 6409,\n",
       "   'time': '2025-04-29T17:00:00.000000000Z',\n",
       "   'bid': {'o': '1.14028', 'h': '1.14041', 'l': '1.13828', 'c': '1.13851'},\n",
       "   'mid': {'o': '1.14036', 'h': '1.14048', 'l': '1.13836', 'c': '1.13860'},\n",
       "   'ask': {'o': '1.14043', 'h': '1.14056', 'l': '1.13844', 'c': '1.13868'}},\n",
       "  {'complete': True,\n",
       "   'volume': 5986,\n",
       "   'time': '2025-04-29T18:00:00.000000000Z',\n",
       "   'bid': {'o': '1.13850', 'h': '1.13925', 'l': '1.13754', 'c': '1.13818'},\n",
       "   'mid': {'o': '1.13858', 'h': '1.13933', 'l': '1.13762', 'c': '1.13825'},\n",
       "   'ask': {'o': '1.13866', 'h': '1.13941', 'l': '1.13769', 'c': '1.13832'}},\n",
       "  {'complete': False,\n",
       "   'volume': 2361,\n",
       "   'time': '2025-04-29T19:00:00.000000000Z',\n",
       "   'bid': {'o': '1.13817', 'h': '1.13880', 'l': '1.13783', 'c': '1.13824'},\n",
       "   'mid': {'o': '1.13824', 'h': '1.13887', 'l': '1.13791', 'c': '1.13832'},\n",
       "   'ask': {'o': '1.13831', 'h': '1.13895', 'l': '1.13799', 'c': '1.13841'}}]}"
      ]
     },
     "execution_count": 36,
     "metadata": {},
     "output_type": "execute_result"
    }
   ],
   "source": [
    "response.json()"
   ]
  },
  {
   "cell_type": "code",
   "execution_count": 37,
   "metadata": {},
   "outputs": [],
   "source": [
    "data = response.json()"
   ]
  },
  {
   "cell_type": "code",
   "execution_count": 38,
   "metadata": {},
   "outputs": [
    {
     "data": {
      "text/plain": [
       "dict_keys(['instrument', 'granularity', 'candles'])"
      ]
     },
     "execution_count": 38,
     "metadata": {},
     "output_type": "execute_result"
    }
   ],
   "source": [
    "data.keys()"
   ]
  },
  {
   "cell_type": "code",
   "execution_count": 39,
   "metadata": {},
   "outputs": [
    {
     "data": {
      "text/plain": [
       "10"
      ]
     },
     "execution_count": 39,
     "metadata": {},
     "output_type": "execute_result"
    }
   ],
   "source": [
    "len(data['candles'])"
   ]
  },
  {
   "cell_type": "code",
   "execution_count": 40,
   "metadata": {},
   "outputs": [
    {
     "name": "stdout",
     "output_type": "stream",
     "text": [
      "mid_o\n",
      "mid_h\n",
      "mid_l\n",
      "mid_c\n",
      "bid_o\n",
      "bid_h\n",
      "bid_l\n",
      "bid_c\n",
      "ask_o\n",
      "ask_h\n",
      "ask_l\n",
      "ask_c\n"
     ]
    }
   ],
   "source": [
    "prices = ['mid', 'bid', 'ask']\n",
    "ohlc = ['o', 'h', 'l', 'c']\n",
    "for price in prices:\n",
    "    for oh in ohlc:\n",
    "        print(f\"{price}_{oh}\")"
   ]
  },
  {
   "cell_type": "code",
   "execution_count": 41,
   "metadata": {},
   "outputs": [
    {
     "data": {
      "text/plain": [
       "{'complete': True,\n",
       " 'volume': 7419,\n",
       " 'time': '2025-04-29T10:00:00.000000000Z',\n",
       " 'bid': {'o': '1.13797', 'h': '1.13847', 'l': '1.13722', 'c': '1.13774'},\n",
       " 'mid': {'o': '1.13804', 'h': '1.13855', 'l': '1.13730', 'c': '1.13782'},\n",
       " 'ask': {'o': '1.13812', 'h': '1.13863', 'l': '1.13739', 'c': '1.13789'}}"
      ]
     },
     "execution_count": 41,
     "metadata": {},
     "output_type": "execute_result"
    }
   ],
   "source": [
    "data['candles'][0]"
   ]
  },
  {
   "cell_type": "code",
   "execution_count": 42,
   "metadata": {},
   "outputs": [
    {
     "name": "stdout",
     "output_type": "stream",
     "text": [
      "[{'time': '2025-04-29T10:00:00.000000000Z', 'volume': 7419, 'mid_o': '1.13804', 'mid_h': '1.13855', 'mid_l': '1.13730', 'mid_c': '1.13782', 'bid_o': '1.13797', 'bid_h': '1.13847', 'bid_l': '1.13722', 'bid_c': '1.13774', 'ask_o': '1.13812', 'ask_h': '1.13863', 'ask_l': '1.13739', 'ask_c': '1.13789'}, {'time': '2025-04-29T11:00:00.000000000Z', 'volume': 7442, 'mid_o': '1.13782', 'mid_h': '1.13871', 'mid_l': '1.13710', 'mid_c': '1.13746', 'bid_o': '1.13773', 'bid_h': '1.13864', 'bid_l': '1.13702', 'bid_c': '1.13738', 'ask_o': '1.13790', 'ask_h': '1.13878', 'ask_l': '1.13718', 'ask_c': '1.13755'}, {'time': '2025-04-29T12:00:00.000000000Z', 'volume': 12128, 'mid_o': '1.13748', 'mid_h': '1.14147', 'mid_l': '1.13704', 'mid_c': '1.14106', 'bid_o': '1.13741', 'bid_h': '1.14139', 'bid_l': '1.13695', 'bid_c': '1.14099', 'ask_o': '1.13756', 'ask_h': '1.14155', 'ask_l': '1.13711', 'ask_c': '1.14114'}, {'time': '2025-04-29T13:00:00.000000000Z', 'volume': 15299, 'mid_o': '1.14107', 'mid_h': '1.14174', 'mid_l': '1.13900', 'mid_c': '1.13980', 'bid_o': '1.14099', 'bid_h': '1.14167', 'bid_l': '1.13893', 'bid_c': '1.13964', 'ask_o': '1.14115', 'ask_h': '1.14182', 'ask_l': '1.13908', 'ask_c': '1.13997'}, {'time': '2025-04-29T14:00:00.000000000Z', 'volume': 18273, 'mid_o': '1.13982', 'mid_h': '1.14178', 'mid_l': '1.13789', 'mid_c': '1.13832', 'bid_o': '1.13965', 'bid_h': '1.14169', 'bid_l': '1.13781', 'bid_c': '1.13825', 'ask_o': '1.13999', 'ask_h': '1.14186', 'ask_l': '1.13797', 'ask_c': '1.13839'}, {'time': '2025-04-29T15:00:00.000000000Z', 'volume': 10849, 'mid_o': '1.13832', 'mid_h': '1.14047', 'mid_l': '1.13823', 'mid_c': '1.13960', 'bid_o': '1.13825', 'bid_h': '1.14040', 'bid_l': '1.13815', 'bid_c': '1.13952', 'ask_o': '1.13840', 'ask_h': '1.14055', 'ask_l': '1.13830', 'ask_c': '1.13968'}, {'time': '2025-04-29T16:00:00.000000000Z', 'volume': 8823, 'mid_o': '1.13961', 'mid_h': '1.14190', 'mid_l': '1.13953', 'mid_c': '1.14035', 'bid_o': '1.13954', 'bid_h': '1.14182', 'bid_l': '1.13946', 'bid_c': '1.14028', 'ask_o': '1.13968', 'ask_h': '1.14197', 'ask_l': '1.13960', 'ask_c': '1.14042'}, {'time': '2025-04-29T17:00:00.000000000Z', 'volume': 6409, 'mid_o': '1.14036', 'mid_h': '1.14048', 'mid_l': '1.13836', 'mid_c': '1.13860', 'bid_o': '1.14028', 'bid_h': '1.14041', 'bid_l': '1.13828', 'bid_c': '1.13851', 'ask_o': '1.14043', 'ask_h': '1.14056', 'ask_l': '1.13844', 'ask_c': '1.13868'}, {'time': '2025-04-29T18:00:00.000000000Z', 'volume': 5986, 'mid_o': '1.13858', 'mid_h': '1.13933', 'mid_l': '1.13762', 'mid_c': '1.13825', 'bid_o': '1.13850', 'bid_h': '1.13925', 'bid_l': '1.13754', 'bid_c': '1.13818', 'ask_o': '1.13866', 'ask_h': '1.13941', 'ask_l': '1.13769', 'ask_c': '1.13832'}]\n"
     ]
    }
   ],
   "source": [
    "our_data = []\n",
    "for candle in data['candles']:\n",
    "    if candle['complete'] == False:\n",
    "        continue\n",
    "    new_dict = {}\n",
    "    new_dict['time'] = candle['time']\n",
    "    new_dict['volume'] = candle['volume']\n",
    "    for price in prices:\n",
    "        for oh in ohlc:\n",
    "            new_dict[f\"{price}_{oh}\"] = candle[price][oh]\n",
    "    our_data.append(new_dict)\n",
    "print(our_data)"
   ]
  },
  {
   "cell_type": "code",
   "execution_count": 43,
   "metadata": {},
   "outputs": [
    {
     "data": {
      "text/html": [
       "<div>\n",
       "<style scoped>\n",
       "    .dataframe tbody tr th:only-of-type {\n",
       "        vertical-align: middle;\n",
       "    }\n",
       "\n",
       "    .dataframe tbody tr th {\n",
       "        vertical-align: top;\n",
       "    }\n",
       "\n",
       "    .dataframe thead th {\n",
       "        text-align: right;\n",
       "    }\n",
       "</style>\n",
       "<table border=\"1\" class=\"dataframe\">\n",
       "  <thead>\n",
       "    <tr style=\"text-align: right;\">\n",
       "      <th></th>\n",
       "      <th>time</th>\n",
       "      <th>volume</th>\n",
       "      <th>mid_o</th>\n",
       "      <th>mid_h</th>\n",
       "      <th>mid_l</th>\n",
       "      <th>mid_c</th>\n",
       "      <th>bid_o</th>\n",
       "      <th>bid_h</th>\n",
       "      <th>bid_l</th>\n",
       "      <th>bid_c</th>\n",
       "      <th>ask_o</th>\n",
       "      <th>ask_h</th>\n",
       "      <th>ask_l</th>\n",
       "      <th>ask_c</th>\n",
       "    </tr>\n",
       "  </thead>\n",
       "  <tbody>\n",
       "    <tr>\n",
       "      <th>0</th>\n",
       "      <td>2025-04-29T10:00:00.000000000Z</td>\n",
       "      <td>7419</td>\n",
       "      <td>1.13804</td>\n",
       "      <td>1.13855</td>\n",
       "      <td>1.13730</td>\n",
       "      <td>1.13782</td>\n",
       "      <td>1.13797</td>\n",
       "      <td>1.13847</td>\n",
       "      <td>1.13722</td>\n",
       "      <td>1.13774</td>\n",
       "      <td>1.13812</td>\n",
       "      <td>1.13863</td>\n",
       "      <td>1.13739</td>\n",
       "      <td>1.13789</td>\n",
       "    </tr>\n",
       "    <tr>\n",
       "      <th>1</th>\n",
       "      <td>2025-04-29T11:00:00.000000000Z</td>\n",
       "      <td>7442</td>\n",
       "      <td>1.13782</td>\n",
       "      <td>1.13871</td>\n",
       "      <td>1.13710</td>\n",
       "      <td>1.13746</td>\n",
       "      <td>1.13773</td>\n",
       "      <td>1.13864</td>\n",
       "      <td>1.13702</td>\n",
       "      <td>1.13738</td>\n",
       "      <td>1.13790</td>\n",
       "      <td>1.13878</td>\n",
       "      <td>1.13718</td>\n",
       "      <td>1.13755</td>\n",
       "    </tr>\n",
       "    <tr>\n",
       "      <th>2</th>\n",
       "      <td>2025-04-29T12:00:00.000000000Z</td>\n",
       "      <td>12128</td>\n",
       "      <td>1.13748</td>\n",
       "      <td>1.14147</td>\n",
       "      <td>1.13704</td>\n",
       "      <td>1.14106</td>\n",
       "      <td>1.13741</td>\n",
       "      <td>1.14139</td>\n",
       "      <td>1.13695</td>\n",
       "      <td>1.14099</td>\n",
       "      <td>1.13756</td>\n",
       "      <td>1.14155</td>\n",
       "      <td>1.13711</td>\n",
       "      <td>1.14114</td>\n",
       "    </tr>\n",
       "    <tr>\n",
       "      <th>3</th>\n",
       "      <td>2025-04-29T13:00:00.000000000Z</td>\n",
       "      <td>15299</td>\n",
       "      <td>1.14107</td>\n",
       "      <td>1.14174</td>\n",
       "      <td>1.13900</td>\n",
       "      <td>1.13980</td>\n",
       "      <td>1.14099</td>\n",
       "      <td>1.14167</td>\n",
       "      <td>1.13893</td>\n",
       "      <td>1.13964</td>\n",
       "      <td>1.14115</td>\n",
       "      <td>1.14182</td>\n",
       "      <td>1.13908</td>\n",
       "      <td>1.13997</td>\n",
       "    </tr>\n",
       "    <tr>\n",
       "      <th>4</th>\n",
       "      <td>2025-04-29T14:00:00.000000000Z</td>\n",
       "      <td>18273</td>\n",
       "      <td>1.13982</td>\n",
       "      <td>1.14178</td>\n",
       "      <td>1.13789</td>\n",
       "      <td>1.13832</td>\n",
       "      <td>1.13965</td>\n",
       "      <td>1.14169</td>\n",
       "      <td>1.13781</td>\n",
       "      <td>1.13825</td>\n",
       "      <td>1.13999</td>\n",
       "      <td>1.14186</td>\n",
       "      <td>1.13797</td>\n",
       "      <td>1.13839</td>\n",
       "    </tr>\n",
       "    <tr>\n",
       "      <th>5</th>\n",
       "      <td>2025-04-29T15:00:00.000000000Z</td>\n",
       "      <td>10849</td>\n",
       "      <td>1.13832</td>\n",
       "      <td>1.14047</td>\n",
       "      <td>1.13823</td>\n",
       "      <td>1.13960</td>\n",
       "      <td>1.13825</td>\n",
       "      <td>1.14040</td>\n",
       "      <td>1.13815</td>\n",
       "      <td>1.13952</td>\n",
       "      <td>1.13840</td>\n",
       "      <td>1.14055</td>\n",
       "      <td>1.13830</td>\n",
       "      <td>1.13968</td>\n",
       "    </tr>\n",
       "    <tr>\n",
       "      <th>6</th>\n",
       "      <td>2025-04-29T16:00:00.000000000Z</td>\n",
       "      <td>8823</td>\n",
       "      <td>1.13961</td>\n",
       "      <td>1.14190</td>\n",
       "      <td>1.13953</td>\n",
       "      <td>1.14035</td>\n",
       "      <td>1.13954</td>\n",
       "      <td>1.14182</td>\n",
       "      <td>1.13946</td>\n",
       "      <td>1.14028</td>\n",
       "      <td>1.13968</td>\n",
       "      <td>1.14197</td>\n",
       "      <td>1.13960</td>\n",
       "      <td>1.14042</td>\n",
       "    </tr>\n",
       "    <tr>\n",
       "      <th>7</th>\n",
       "      <td>2025-04-29T17:00:00.000000000Z</td>\n",
       "      <td>6409</td>\n",
       "      <td>1.14036</td>\n",
       "      <td>1.14048</td>\n",
       "      <td>1.13836</td>\n",
       "      <td>1.13860</td>\n",
       "      <td>1.14028</td>\n",
       "      <td>1.14041</td>\n",
       "      <td>1.13828</td>\n",
       "      <td>1.13851</td>\n",
       "      <td>1.14043</td>\n",
       "      <td>1.14056</td>\n",
       "      <td>1.13844</td>\n",
       "      <td>1.13868</td>\n",
       "    </tr>\n",
       "    <tr>\n",
       "      <th>8</th>\n",
       "      <td>2025-04-29T18:00:00.000000000Z</td>\n",
       "      <td>5986</td>\n",
       "      <td>1.13858</td>\n",
       "      <td>1.13933</td>\n",
       "      <td>1.13762</td>\n",
       "      <td>1.13825</td>\n",
       "      <td>1.13850</td>\n",
       "      <td>1.13925</td>\n",
       "      <td>1.13754</td>\n",
       "      <td>1.13818</td>\n",
       "      <td>1.13866</td>\n",
       "      <td>1.13941</td>\n",
       "      <td>1.13769</td>\n",
       "      <td>1.13832</td>\n",
       "    </tr>\n",
       "  </tbody>\n",
       "</table>\n",
       "</div>"
      ],
      "text/plain": [
       "                             time  volume    mid_o    mid_h    mid_l    mid_c  \\\n",
       "0  2025-04-29T10:00:00.000000000Z    7419  1.13804  1.13855  1.13730  1.13782   \n",
       "1  2025-04-29T11:00:00.000000000Z    7442  1.13782  1.13871  1.13710  1.13746   \n",
       "2  2025-04-29T12:00:00.000000000Z   12128  1.13748  1.14147  1.13704  1.14106   \n",
       "3  2025-04-29T13:00:00.000000000Z   15299  1.14107  1.14174  1.13900  1.13980   \n",
       "4  2025-04-29T14:00:00.000000000Z   18273  1.13982  1.14178  1.13789  1.13832   \n",
       "5  2025-04-29T15:00:00.000000000Z   10849  1.13832  1.14047  1.13823  1.13960   \n",
       "6  2025-04-29T16:00:00.000000000Z    8823  1.13961  1.14190  1.13953  1.14035   \n",
       "7  2025-04-29T17:00:00.000000000Z    6409  1.14036  1.14048  1.13836  1.13860   \n",
       "8  2025-04-29T18:00:00.000000000Z    5986  1.13858  1.13933  1.13762  1.13825   \n",
       "\n",
       "     bid_o    bid_h    bid_l    bid_c    ask_o    ask_h    ask_l    ask_c  \n",
       "0  1.13797  1.13847  1.13722  1.13774  1.13812  1.13863  1.13739  1.13789  \n",
       "1  1.13773  1.13864  1.13702  1.13738  1.13790  1.13878  1.13718  1.13755  \n",
       "2  1.13741  1.14139  1.13695  1.14099  1.13756  1.14155  1.13711  1.14114  \n",
       "3  1.14099  1.14167  1.13893  1.13964  1.14115  1.14182  1.13908  1.13997  \n",
       "4  1.13965  1.14169  1.13781  1.13825  1.13999  1.14186  1.13797  1.13839  \n",
       "5  1.13825  1.14040  1.13815  1.13952  1.13840  1.14055  1.13830  1.13968  \n",
       "6  1.13954  1.14182  1.13946  1.14028  1.13968  1.14197  1.13960  1.14042  \n",
       "7  1.14028  1.14041  1.13828  1.13851  1.14043  1.14056  1.13844  1.13868  \n",
       "8  1.13850  1.13925  1.13754  1.13818  1.13866  1.13941  1.13769  1.13832  "
      ]
     },
     "execution_count": 43,
     "metadata": {},
     "output_type": "execute_result"
    }
   ],
   "source": [
    "candles_df = pd.DataFrame(our_data)\n",
    "candles_df"
   ]
  },
  {
   "cell_type": "code",
   "execution_count": 44,
   "metadata": {},
   "outputs": [],
   "source": [
    "candles_df.to_pickle('EUR_USD_H1.pkl')"
   ]
  },
  {
   "cell_type": "code",
   "execution_count": 45,
   "metadata": {},
   "outputs": [
    {
     "data": {
      "text/html": [
       "<div>\n",
       "<style scoped>\n",
       "    .dataframe tbody tr th:only-of-type {\n",
       "        vertical-align: middle;\n",
       "    }\n",
       "\n",
       "    .dataframe tbody tr th {\n",
       "        vertical-align: top;\n",
       "    }\n",
       "\n",
       "    .dataframe thead th {\n",
       "        text-align: right;\n",
       "    }\n",
       "</style>\n",
       "<table border=\"1\" class=\"dataframe\">\n",
       "  <thead>\n",
       "    <tr style=\"text-align: right;\">\n",
       "      <th></th>\n",
       "      <th>time</th>\n",
       "      <th>volume</th>\n",
       "      <th>mid_o</th>\n",
       "      <th>mid_h</th>\n",
       "      <th>mid_l</th>\n",
       "      <th>mid_c</th>\n",
       "      <th>bid_o</th>\n",
       "      <th>bid_h</th>\n",
       "      <th>bid_l</th>\n",
       "      <th>bid_c</th>\n",
       "      <th>ask_o</th>\n",
       "      <th>ask_h</th>\n",
       "      <th>ask_l</th>\n",
       "      <th>ask_c</th>\n",
       "    </tr>\n",
       "  </thead>\n",
       "  <tbody>\n",
       "    <tr>\n",
       "      <th>0</th>\n",
       "      <td>2025-04-29T10:00:00.000000000Z</td>\n",
       "      <td>7419</td>\n",
       "      <td>1.13804</td>\n",
       "      <td>1.13855</td>\n",
       "      <td>1.13730</td>\n",
       "      <td>1.13782</td>\n",
       "      <td>1.13797</td>\n",
       "      <td>1.13847</td>\n",
       "      <td>1.13722</td>\n",
       "      <td>1.13774</td>\n",
       "      <td>1.13812</td>\n",
       "      <td>1.13863</td>\n",
       "      <td>1.13739</td>\n",
       "      <td>1.13789</td>\n",
       "    </tr>\n",
       "    <tr>\n",
       "      <th>1</th>\n",
       "      <td>2025-04-29T11:00:00.000000000Z</td>\n",
       "      <td>7442</td>\n",
       "      <td>1.13782</td>\n",
       "      <td>1.13871</td>\n",
       "      <td>1.13710</td>\n",
       "      <td>1.13746</td>\n",
       "      <td>1.13773</td>\n",
       "      <td>1.13864</td>\n",
       "      <td>1.13702</td>\n",
       "      <td>1.13738</td>\n",
       "      <td>1.13790</td>\n",
       "      <td>1.13878</td>\n",
       "      <td>1.13718</td>\n",
       "      <td>1.13755</td>\n",
       "    </tr>\n",
       "    <tr>\n",
       "      <th>2</th>\n",
       "      <td>2025-04-29T12:00:00.000000000Z</td>\n",
       "      <td>12128</td>\n",
       "      <td>1.13748</td>\n",
       "      <td>1.14147</td>\n",
       "      <td>1.13704</td>\n",
       "      <td>1.14106</td>\n",
       "      <td>1.13741</td>\n",
       "      <td>1.14139</td>\n",
       "      <td>1.13695</td>\n",
       "      <td>1.14099</td>\n",
       "      <td>1.13756</td>\n",
       "      <td>1.14155</td>\n",
       "      <td>1.13711</td>\n",
       "      <td>1.14114</td>\n",
       "    </tr>\n",
       "    <tr>\n",
       "      <th>3</th>\n",
       "      <td>2025-04-29T13:00:00.000000000Z</td>\n",
       "      <td>15299</td>\n",
       "      <td>1.14107</td>\n",
       "      <td>1.14174</td>\n",
       "      <td>1.13900</td>\n",
       "      <td>1.13980</td>\n",
       "      <td>1.14099</td>\n",
       "      <td>1.14167</td>\n",
       "      <td>1.13893</td>\n",
       "      <td>1.13964</td>\n",
       "      <td>1.14115</td>\n",
       "      <td>1.14182</td>\n",
       "      <td>1.13908</td>\n",
       "      <td>1.13997</td>\n",
       "    </tr>\n",
       "    <tr>\n",
       "      <th>4</th>\n",
       "      <td>2025-04-29T14:00:00.000000000Z</td>\n",
       "      <td>18273</td>\n",
       "      <td>1.13982</td>\n",
       "      <td>1.14178</td>\n",
       "      <td>1.13789</td>\n",
       "      <td>1.13832</td>\n",
       "      <td>1.13965</td>\n",
       "      <td>1.14169</td>\n",
       "      <td>1.13781</td>\n",
       "      <td>1.13825</td>\n",
       "      <td>1.13999</td>\n",
       "      <td>1.14186</td>\n",
       "      <td>1.13797</td>\n",
       "      <td>1.13839</td>\n",
       "    </tr>\n",
       "    <tr>\n",
       "      <th>5</th>\n",
       "      <td>2025-04-29T15:00:00.000000000Z</td>\n",
       "      <td>10849</td>\n",
       "      <td>1.13832</td>\n",
       "      <td>1.14047</td>\n",
       "      <td>1.13823</td>\n",
       "      <td>1.13960</td>\n",
       "      <td>1.13825</td>\n",
       "      <td>1.14040</td>\n",
       "      <td>1.13815</td>\n",
       "      <td>1.13952</td>\n",
       "      <td>1.13840</td>\n",
       "      <td>1.14055</td>\n",
       "      <td>1.13830</td>\n",
       "      <td>1.13968</td>\n",
       "    </tr>\n",
       "    <tr>\n",
       "      <th>6</th>\n",
       "      <td>2025-04-29T16:00:00.000000000Z</td>\n",
       "      <td>8823</td>\n",
       "      <td>1.13961</td>\n",
       "      <td>1.14190</td>\n",
       "      <td>1.13953</td>\n",
       "      <td>1.14035</td>\n",
       "      <td>1.13954</td>\n",
       "      <td>1.14182</td>\n",
       "      <td>1.13946</td>\n",
       "      <td>1.14028</td>\n",
       "      <td>1.13968</td>\n",
       "      <td>1.14197</td>\n",
       "      <td>1.13960</td>\n",
       "      <td>1.14042</td>\n",
       "    </tr>\n",
       "    <tr>\n",
       "      <th>7</th>\n",
       "      <td>2025-04-29T17:00:00.000000000Z</td>\n",
       "      <td>6409</td>\n",
       "      <td>1.14036</td>\n",
       "      <td>1.14048</td>\n",
       "      <td>1.13836</td>\n",
       "      <td>1.13860</td>\n",
       "      <td>1.14028</td>\n",
       "      <td>1.14041</td>\n",
       "      <td>1.13828</td>\n",
       "      <td>1.13851</td>\n",
       "      <td>1.14043</td>\n",
       "      <td>1.14056</td>\n",
       "      <td>1.13844</td>\n",
       "      <td>1.13868</td>\n",
       "    </tr>\n",
       "    <tr>\n",
       "      <th>8</th>\n",
       "      <td>2025-04-29T18:00:00.000000000Z</td>\n",
       "      <td>5986</td>\n",
       "      <td>1.13858</td>\n",
       "      <td>1.13933</td>\n",
       "      <td>1.13762</td>\n",
       "      <td>1.13825</td>\n",
       "      <td>1.13850</td>\n",
       "      <td>1.13925</td>\n",
       "      <td>1.13754</td>\n",
       "      <td>1.13818</td>\n",
       "      <td>1.13866</td>\n",
       "      <td>1.13941</td>\n",
       "      <td>1.13769</td>\n",
       "      <td>1.13832</td>\n",
       "    </tr>\n",
       "  </tbody>\n",
       "</table>\n",
       "</div>"
      ],
      "text/plain": [
       "                             time  volume    mid_o    mid_h    mid_l    mid_c  \\\n",
       "0  2025-04-29T10:00:00.000000000Z    7419  1.13804  1.13855  1.13730  1.13782   \n",
       "1  2025-04-29T11:00:00.000000000Z    7442  1.13782  1.13871  1.13710  1.13746   \n",
       "2  2025-04-29T12:00:00.000000000Z   12128  1.13748  1.14147  1.13704  1.14106   \n",
       "3  2025-04-29T13:00:00.000000000Z   15299  1.14107  1.14174  1.13900  1.13980   \n",
       "4  2025-04-29T14:00:00.000000000Z   18273  1.13982  1.14178  1.13789  1.13832   \n",
       "5  2025-04-29T15:00:00.000000000Z   10849  1.13832  1.14047  1.13823  1.13960   \n",
       "6  2025-04-29T16:00:00.000000000Z    8823  1.13961  1.14190  1.13953  1.14035   \n",
       "7  2025-04-29T17:00:00.000000000Z    6409  1.14036  1.14048  1.13836  1.13860   \n",
       "8  2025-04-29T18:00:00.000000000Z    5986  1.13858  1.13933  1.13762  1.13825   \n",
       "\n",
       "     bid_o    bid_h    bid_l    bid_c    ask_o    ask_h    ask_l    ask_c  \n",
       "0  1.13797  1.13847  1.13722  1.13774  1.13812  1.13863  1.13739  1.13789  \n",
       "1  1.13773  1.13864  1.13702  1.13738  1.13790  1.13878  1.13718  1.13755  \n",
       "2  1.13741  1.14139  1.13695  1.14099  1.13756  1.14155  1.13711  1.14114  \n",
       "3  1.14099  1.14167  1.13893  1.13964  1.14115  1.14182  1.13908  1.13997  \n",
       "4  1.13965  1.14169  1.13781  1.13825  1.13999  1.14186  1.13797  1.13839  \n",
       "5  1.13825  1.14040  1.13815  1.13952  1.13840  1.14055  1.13830  1.13968  \n",
       "6  1.13954  1.14182  1.13946  1.14028  1.13968  1.14197  1.13960  1.14042  \n",
       "7  1.14028  1.14041  1.13828  1.13851  1.14043  1.14056  1.13844  1.13868  \n",
       "8  1.13850  1.13925  1.13754  1.13818  1.13866  1.13941  1.13769  1.13832  "
      ]
     },
     "execution_count": 45,
     "metadata": {},
     "output_type": "execute_result"
    }
   ],
   "source": [
    "test_df = pd.read_pickle('EUR_USD_H1.pkl')\n",
    "test_df"
   ]
  },
  {
   "cell_type": "code",
   "execution_count": null,
   "metadata": {},
   "outputs": [],
   "source": []
  }
 ],
 "metadata": {
  "kernelspec": {
   "display_name": "forex",
   "language": "python",
   "name": "python3"
  },
  "language_info": {
   "codemirror_mode": {
    "name": "ipython",
    "version": 3
   },
   "file_extension": ".py",
   "mimetype": "text/x-python",
   "name": "python",
   "nbconvert_exporter": "python",
   "pygments_lexer": "ipython3",
   "version": "3.11.2"
  }
 },
 "nbformat": 4,
 "nbformat_minor": 2
}
