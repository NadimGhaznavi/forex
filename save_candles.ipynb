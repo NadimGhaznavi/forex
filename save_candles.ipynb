{
 "cells": [
  {
   "cell_type": "code",
   "execution_count": 2,
   "metadata": {},
   "outputs": [],
   "source": [
    "import requests\n",
    "import defs\n",
    "import pandas as pd"
   ]
  },
  {
   "cell_type": "code",
   "execution_count": 3,
   "metadata": {},
   "outputs": [],
   "source": [
    "session = requests.Session()"
   ]
  },
  {
   "cell_type": "code",
   "execution_count": 4,
   "metadata": {},
   "outputs": [],
   "source": [
    "ins_df = pd.read_pickle('instruments.pkl')"
   ]
  },
  {
   "cell_type": "code",
   "execution_count": 5,
   "metadata": {},
   "outputs": [],
   "source": [
    "our_curr = ['EUR', 'USD', 'GBP', 'JPY', 'CHF', 'NZD', 'CAD']"
   ]
  },
  {
   "cell_type": "code",
   "execution_count": 6,
   "metadata": {},
   "outputs": [
    {
     "data": {
      "text/plain": [
       "123"
      ]
     },
     "execution_count": 6,
     "metadata": {},
     "output_type": "execute_result"
    }
   ],
   "source": [
    "ins_df.shape[0]"
   ]
  },
  {
   "cell_type": "code",
   "execution_count": 7,
   "metadata": {},
   "outputs": [
    {
     "name": "stdout",
     "output_type": "stream",
     "text": [
      "<class 'pandas.core.frame.DataFrame'>\n",
      "RangeIndex: 123 entries, 0 to 122\n",
      "Data columns (total 5 columns):\n",
      " #   Column       Non-Null Count  Dtype \n",
      "---  ------       --------------  ----- \n",
      " 0   name         123 non-null    object\n",
      " 1   type         123 non-null    object\n",
      " 2   displayName  123 non-null    object\n",
      " 3   pipLocation  123 non-null    int64 \n",
      " 4   marginRate   123 non-null    object\n",
      "dtypes: int64(1), object(4)\n",
      "memory usage: 4.9+ KB\n"
     ]
    }
   ],
   "source": [
    "ins_df.info()"
   ]
  },
  {
   "cell_type": "code",
   "execution_count": 8,
   "metadata": {},
   "outputs": [
    {
     "data": {
      "text/plain": [
       "Index(['name', 'type', 'displayName', 'pipLocation', 'marginRate'], dtype='object')"
      ]
     },
     "execution_count": 8,
     "metadata": {},
     "output_type": "execute_result"
    }
   ],
   "source": [
    "ins_df.columns"
   ]
  },
  {
   "cell_type": "code",
   "execution_count": 9,
   "metadata": {},
   "outputs": [
    {
     "data": {
      "text/plain": [
       "array(['USD_HKD', 'USD_CNH', 'SGD_CHF', 'NZD_CAD', 'NZD_JPY', 'EUR_GBP',\n",
       "       'US30_USD', 'JP225Y_JPY', 'EUR_NOK', 'XAU_USD', 'CN50_USD',\n",
       "       'USD_CZK', 'XAU_NZD', 'CH20_CHF', 'CAD_HKD', 'XAG_CHF', 'USD_CHF',\n",
       "       'AUD_USD', 'XAG_HKD', 'AUD_HKD', 'ESPIX_EUR', 'NZD_CHF', 'AUD_CHF',\n",
       "       'GBP_CHF', 'USD_THB', 'XAU_JPY', 'XAU_HKD', 'EUR_HKD', 'CHF_JPY',\n",
       "       'GBP_HKD', 'EUR_NZD', 'XAG_AUD', 'WTICO_USD', 'XAG_NZD', 'AUD_SGD',\n",
       "       'EUR_JPY', 'EUR_TRY', 'USD_JPY', 'SGD_JPY', 'GBP_ZAR', 'XAG_JPY',\n",
       "       'ZAR_JPY', 'NZD_SGD', 'CAD_JPY', 'USD_CAD', 'EUR_AUD', 'XAG_GBP',\n",
       "       'EUR_SGD', 'CAD_CHF', 'BCO_USD', 'XAU_SGD', 'SPX500_USD',\n",
       "       'XAU_XAG', 'USB10Y_USD', 'EU50_EUR', 'USD_NOK', 'USB02Y_USD',\n",
       "       'HK33_HKD', 'XCU_USD', 'XAG_EUR', 'AUD_JPY', 'EUR_ZAR', 'NZD_USD',\n",
       "       'XAU_GBP', 'GBP_AUD', 'USD_PLN', 'US2000_USD', 'HKD_JPY',\n",
       "       'TRY_JPY', 'NATGAS_USD', 'USD_HUF', 'NAS100_USD', 'EUR_CAD',\n",
       "       'USD_ZAR', 'DE30_EUR', 'XPT_USD', 'CORN_USD', 'XAU_EUR',\n",
       "       'SOYBN_USD', 'EUR_DKK', 'USD_DKK', 'NL25_EUR', 'CHINAH_HKD',\n",
       "       'EUR_USD', 'SG30_SGD', 'AUD_NZD', 'XAG_SGD', 'CHF_ZAR',\n",
       "       'AU200_AUD', 'CAD_SGD', 'JP225_USD', 'FR40_EUR', 'USB30Y_USD',\n",
       "       'XAG_CAD', 'NZD_HKD', 'EUR_CHF', 'XAU_AUD', 'WHEAT_USD', 'GBP_CAD',\n",
       "       'UK100_GBP', 'USD_MXN', 'GBP_USD', 'EUR_CZK', 'XAU_CHF', 'XAG_USD',\n",
       "       'UK10YB_GBP', 'AUD_CAD', 'USB05Y_USD', 'EUR_PLN', 'SUGAR_USD',\n",
       "       'GBP_SGD', 'USD_SEK', 'XPD_USD', 'XAU_CAD', 'EUR_HUF',\n",
       "       'DE10YB_EUR', 'GBP_PLN', 'EUR_SEK', 'USD_SGD', 'GBP_NZD',\n",
       "       'USD_TRY', 'GBP_JPY', 'CHF_HKD'], dtype=object)"
      ]
     },
     "execution_count": 9,
     "metadata": {},
     "output_type": "execute_result"
    }
   ],
   "source": [
    "ins_df.name.unique()"
   ]
  },
  {
   "cell_type": "code",
   "execution_count": 12,
   "metadata": {},
   "outputs": [],
   "source": [
    "def fetch_candles(pair_name, count, granularity):\n",
    "    url = f\"{defs.OANDA_URL}/instruments/{pair_name}/candles\"\n",
    "    params = dict(\n",
    "        count = count,\n",
    "        granularity = granularity,\n",
    "        price = 'MBA'\n",
    "    )\n",
    "    response = session.get(url, params=params, headers=defs.SECURE_HEADER)\n",
    "    return response.status_code, response.json()"
   ]
  },
  {
   "cell_type": "code",
   "execution_count": 18,
   "metadata": {},
   "outputs": [],
   "source": [
    "def get_candles_df(json_response):\n",
    "    prices = ['mid', 'bid', 'ask']\n",
    "    ohlc = ['o', 'h', 'l', 'c']\n",
    "    our_data = []\n",
    "    for candle in json_response['candles']:\n",
    "        if candle['complete'] == False:\n",
    "            continue\n",
    "        new_dict = {}\n",
    "        new_dict['time'] = candle['time']\n",
    "        new_dict['volume'] = candle['volume']\n",
    "        for price in prices:\n",
    "            for oh in ohlc:\n",
    "                new_dict[f'{price}_{oh}'] = candle[price][oh]\n",
    "        our_data.append(new_dict)\n",
    "    return pd.DataFrame.from_dict(our_data)\n",
    "\n"
   ]
  },
  {
   "cell_type": "code",
   "execution_count": 19,
   "metadata": {},
   "outputs": [
    {
     "data": {
      "text/html": [
       "<div>\n",
       "<style scoped>\n",
       "    .dataframe tbody tr th:only-of-type {\n",
       "        vertical-align: middle;\n",
       "    }\n",
       "\n",
       "    .dataframe tbody tr th {\n",
       "        vertical-align: top;\n",
       "    }\n",
       "\n",
       "    .dataframe thead th {\n",
       "        text-align: right;\n",
       "    }\n",
       "</style>\n",
       "<table border=\"1\" class=\"dataframe\">\n",
       "  <thead>\n",
       "    <tr style=\"text-align: right;\">\n",
       "      <th></th>\n",
       "      <th>time</th>\n",
       "      <th>volume</th>\n",
       "      <th>mid_o</th>\n",
       "      <th>mid_h</th>\n",
       "      <th>mid_l</th>\n",
       "      <th>mid_c</th>\n",
       "      <th>bid_o</th>\n",
       "      <th>bid_h</th>\n",
       "      <th>bid_l</th>\n",
       "      <th>bid_c</th>\n",
       "      <th>ask_o</th>\n",
       "      <th>ask_h</th>\n",
       "      <th>ask_l</th>\n",
       "      <th>ask_c</th>\n",
       "    </tr>\n",
       "  </thead>\n",
       "  <tbody>\n",
       "    <tr>\n",
       "      <th>0</th>\n",
       "      <td>2025-04-29T13:00:00.000000000Z</td>\n",
       "      <td>15299</td>\n",
       "      <td>1.14107</td>\n",
       "      <td>1.14174</td>\n",
       "      <td>1.13900</td>\n",
       "      <td>1.13980</td>\n",
       "      <td>1.14099</td>\n",
       "      <td>1.14167</td>\n",
       "      <td>1.13893</td>\n",
       "      <td>1.13964</td>\n",
       "      <td>1.14115</td>\n",
       "      <td>1.14182</td>\n",
       "      <td>1.13908</td>\n",
       "      <td>1.13997</td>\n",
       "    </tr>\n",
       "    <tr>\n",
       "      <th>1</th>\n",
       "      <td>2025-04-29T14:00:00.000000000Z</td>\n",
       "      <td>18273</td>\n",
       "      <td>1.13982</td>\n",
       "      <td>1.14178</td>\n",
       "      <td>1.13789</td>\n",
       "      <td>1.13832</td>\n",
       "      <td>1.13965</td>\n",
       "      <td>1.14169</td>\n",
       "      <td>1.13781</td>\n",
       "      <td>1.13825</td>\n",
       "      <td>1.13999</td>\n",
       "      <td>1.14186</td>\n",
       "      <td>1.13797</td>\n",
       "      <td>1.13839</td>\n",
       "    </tr>\n",
       "    <tr>\n",
       "      <th>2</th>\n",
       "      <td>2025-04-29T15:00:00.000000000Z</td>\n",
       "      <td>10849</td>\n",
       "      <td>1.13832</td>\n",
       "      <td>1.14047</td>\n",
       "      <td>1.13823</td>\n",
       "      <td>1.13960</td>\n",
       "      <td>1.13825</td>\n",
       "      <td>1.14040</td>\n",
       "      <td>1.13815</td>\n",
       "      <td>1.13952</td>\n",
       "      <td>1.13840</td>\n",
       "      <td>1.14055</td>\n",
       "      <td>1.13830</td>\n",
       "      <td>1.13968</td>\n",
       "    </tr>\n",
       "    <tr>\n",
       "      <th>3</th>\n",
       "      <td>2025-04-29T16:00:00.000000000Z</td>\n",
       "      <td>8823</td>\n",
       "      <td>1.13961</td>\n",
       "      <td>1.14190</td>\n",
       "      <td>1.13953</td>\n",
       "      <td>1.14035</td>\n",
       "      <td>1.13954</td>\n",
       "      <td>1.14182</td>\n",
       "      <td>1.13946</td>\n",
       "      <td>1.14028</td>\n",
       "      <td>1.13968</td>\n",
       "      <td>1.14197</td>\n",
       "      <td>1.13960</td>\n",
       "      <td>1.14042</td>\n",
       "    </tr>\n",
       "    <tr>\n",
       "      <th>4</th>\n",
       "      <td>2025-04-29T17:00:00.000000000Z</td>\n",
       "      <td>6409</td>\n",
       "      <td>1.14036</td>\n",
       "      <td>1.14048</td>\n",
       "      <td>1.13836</td>\n",
       "      <td>1.13860</td>\n",
       "      <td>1.14028</td>\n",
       "      <td>1.14041</td>\n",
       "      <td>1.13828</td>\n",
       "      <td>1.13851</td>\n",
       "      <td>1.14043</td>\n",
       "      <td>1.14056</td>\n",
       "      <td>1.13844</td>\n",
       "      <td>1.13868</td>\n",
       "    </tr>\n",
       "  </tbody>\n",
       "</table>\n",
       "</div>"
      ],
      "text/plain": [
       "                             time  volume    mid_o    mid_h    mid_l    mid_c  \\\n",
       "0  2025-04-29T13:00:00.000000000Z   15299  1.14107  1.14174  1.13900  1.13980   \n",
       "1  2025-04-29T14:00:00.000000000Z   18273  1.13982  1.14178  1.13789  1.13832   \n",
       "2  2025-04-29T15:00:00.000000000Z   10849  1.13832  1.14047  1.13823  1.13960   \n",
       "3  2025-04-29T16:00:00.000000000Z    8823  1.13961  1.14190  1.13953  1.14035   \n",
       "4  2025-04-29T17:00:00.000000000Z    6409  1.14036  1.14048  1.13836  1.13860   \n",
       "\n",
       "     bid_o    bid_h    bid_l    bid_c    ask_o    ask_h    ask_l    ask_c  \n",
       "0  1.14099  1.14167  1.13893  1.13964  1.14115  1.14182  1.13908  1.13997  \n",
       "1  1.13965  1.14169  1.13781  1.13825  1.13999  1.14186  1.13797  1.13839  \n",
       "2  1.13825  1.14040  1.13815  1.13952  1.13840  1.14055  1.13830  1.13968  \n",
       "3  1.13954  1.14182  1.13946  1.14028  1.13968  1.14197  1.13960  1.14042  \n",
       "4  1.14028  1.14041  1.13828  1.13851  1.14043  1.14056  1.13844  1.13868  "
      ]
     },
     "execution_count": 19,
     "metadata": {},
     "output_type": "execute_result"
    }
   ],
   "source": [
    "code, res = fetch_candles('EUR_USD', 10, 'H1')\n",
    "df = get_candles_df(res)\n",
    "df.head()\n"
   ]
  },
  {
   "cell_type": "code",
   "execution_count": null,
   "metadata": {},
   "outputs": [],
   "source": [
    "def save_file(candles_df, pair, granularity):    \n",
    "    file_name = f\"his_data/{pair}_{granularity}.pkl\"\n",
    "    candles_df.to_pickle(file_name)\n",
    "    #print(f\"Saved {file_name} with {candles_df.shape[0]} rows\")"
   ]
  },
  {
   "cell_type": "code",
   "execution_count": 21,
   "metadata": {},
   "outputs": [],
   "source": [
    "def create_data(pair, granularity):\n",
    "    code, res = fetch_candles(pair, 4000, granularity)\n",
    "    if code != 200:\n",
    "        print(f\"Error fetching {pair} data\")\n",
    "        return\n",
    "    df = get_candles_df(res)\n",
    "    if df.shape[0] == 0:\n",
    "        print(f\"No data for {pair}\")\n",
    "        return\n",
    "    print(f\"{pair} loaded {df.shape[0]} candles from {df.time.min()} to {df.time.max()}\")\n",
    "    save_file(df, pair, granularity)"
   ]
  },
  {
   "cell_type": "code",
   "execution_count": null,
   "metadata": {},
   "outputs": [],
   "source": [
    "for p1 in our_curr:\n",
    "    for p2 in our_curr:\n",
    "        pair = f\"{p1}_{p2}\"\n",
    "        if pair in ins_df.name.unique():\n",
    "            create_data(pair, 'H1')"
   ]
  },
  {
   "cell_type": "code",
   "execution_count": null,
   "metadata": {},
   "outputs": [],
   "source": []
  },
  {
   "cell_type": "code",
   "execution_count": null,
   "metadata": {},
   "outputs": [],
   "source": []
  }
 ],
 "metadata": {
  "kernelspec": {
   "display_name": "forex",
   "language": "python",
   "name": "python3"
  },
  "language_info": {
   "codemirror_mode": {
    "name": "ipython",
    "version": 3
   },
   "file_extension": ".py",
   "mimetype": "text/x-python",
   "name": "python",
   "nbconvert_exporter": "python",
   "pygments_lexer": "ipython3",
   "version": "3.11.2"
  }
 },
 "nbformat": 4,
 "nbformat_minor": 2
}
